{
 "cells": [
  {
   "cell_type": "markdown",
   "metadata": {},
   "source": [
    "Both Linear Regression and k Nearest Neighbor are popular machine learning models used make perdition of an event. Linear regression is used to predict result with scalar values.  In linear regression, we are trying to use a linear predictor function, the best fit line to predict the result with known attribute values. And the best fit line was calculated to minimize the residual error. In K Nearest Neighbor, we believe that new data with certain attributes value should be classified into the group with the closest attribute. Thus, a prediction problem, whose results are continuous values, is easier to be modeled by linear regression, but  prediction problem, whose job is  to determine if an object or data is a member of certain group is easier to be modeled with K Nearest Neighbor. \n",
    "\n",
    "In the problem of my choice, I want to predict the bike load on Manhantan Bridge based on the temperature and precipitation. The bike loads on the bridge are continuous scalar values, so I chose to use linear regression. \n",
    "\n",
    "## Procedures \n",
    "In this prediction, I use the linear model from python scikit learn library. To use the linear model, I need to \n",
    "1. Define my features and write them into matrix, or dataframe. The rows will be the instances and the columns will be different attributes. \n",
    "2. Define my result vector\n",
    "3. Separate the instances into training and testing sets \n",
    "4. Apply the Linear model \n",
    "5. Calculate the error \n",
    "\n"
   ]
  },
  {
   "cell_type": "code",
   "execution_count": 137,
   "metadata": {},
   "outputs": [],
   "source": [
    "import sqlite3\n",
    "import pandas as pd\n",
    "from pprint import pprint\n",
    "from pandas import DataFrame\n",
    "import pandas as pd\n",
    "from sklearn.linear_model import LinearRegression\n",
    "from sklearn.metrics import mean_squared_error\n",
    "import math\n",
    "import numpy as np\n",
    "conn = sqlite3.connect('bicycle.db')\n",
    "c=conn.cursor()\n",
    "c.execute('SELECT HiTemp, LoTemp, Precip FROM bicycle')\n",
    "features=c.fetchall()\n",
    "c.execute('SELECT Manhattan FROM bicycle')\n",
    "results =c.fetchall()"
   ]
  },
  {
   "cell_type": "markdown",
   "metadata": {},
   "source": [
    "### Step 1"
   ]
  },
  {
   "cell_type": "code",
   "execution_count": 138,
   "metadata": {},
   "outputs": [],
   "source": [
    "X=DataFrame(features, columns=['HiTemp', 'LoTemp', 'Precip'])\n",
    "y=DataFrame(results, columns=['Man_Count'])\n",
    "#training set\n",
    "X_tr=X[::2]\n",
    "y_tr=y[::2]\n",
    "#testing set\n",
    "X_ts=X[1::2]\n",
    "y_ts=y[1::2]"
   ]
  },
  {
   "cell_type": "markdown",
   "metadata": {},
   "source": [
    "### Step 2"
   ]
  },
  {
   "cell_type": "code",
   "execution_count": 139,
   "metadata": {},
   "outputs": [],
   "source": [
    "model=LinearRegression()\n",
    "model.fit(X_tr,y_tr)\n",
    "prd_y=model.predict(X_ts)"
   ]
  },
  {
   "cell_type": "markdown",
   "metadata": {},
   "source": [
    "### Step 3"
   ]
  },
  {
   "cell_type": "code",
   "execution_count": 140,
   "metadata": {
    "collapsed": true
   },
   "outputs": [],
   "source": [
    "def getMeanAbsErr(predicted, actual):\n",
    "    n = len(predicted)\n",
    "    totalerr = 0\n",
    "    for i in range(n):\n",
    "        totalerr = totalerr + abs(predicted[i]-actual[i])\n",
    "    return (totalerr/n)"
   ]
  },
  {
   "cell_type": "markdown",
   "metadata": {},
   "source": [
    "### Step 4"
   ]
  },
  {
   "cell_type": "code",
   "execution_count": 141,
   "metadata": {},
   "outputs": [
    {
     "name": "stdout",
     "output_type": "stream",
     "text": [
      "    Actual    Predicted\n",
      "0     1646  3457.933791\n",
      "1     1067  2110.539456\n",
      "2     3329  3724.644889\n",
      "3     3455  3281.825021\n",
      "4     2387  4069.368024\n",
      "5     2178  3671.953886\n",
      "6     5309  4782.952693\n",
      "7     4316  5148.943760\n",
      "8     6823  6324.290449\n",
      "9     6574  5132.677470\n",
      "10    3276  4386.691010\n",
      "11    5978  4854.506845\n",
      "12    5606  4685.120205\n",
      "13    4178  4035.984166\n",
      "14    1525  3103.134521\n",
      "15    1986  1901.946546\n",
      "16    4196  4184.266974\n",
      "17    3157  4187.581109\n",
      "18    6591  5312.824212\n",
      "19    7216  5580.234735\n",
      "20    3072  3657.211004\n",
      "21    6214  5139.366619\n",
      "22    2864  4604.958870\n",
      "23    6843  5621.189662\n",
      "24    7869  6412.919824\n",
      "25    5670  5836.998149\n",
      "26    2750   553.970944\n",
      "27    7565  5610.061956\n",
      "28    3708  4614.962155\n",
      "29    1593  1996.559029\n",
      "..     ...          ...\n",
      "68    5904  6030.097045\n",
      "69    5340  5853.264438\n",
      "70    7357  4946.450356\n",
      "71    6248  5915.380728\n",
      "72    4470  6199.301051\n",
      "73    6433  5444.172085\n",
      "74    9152  5873.784315\n",
      "75    7598  5109.026091\n",
      "76    5210  5478.896716\n",
      "77    2260  2696.422344\n",
      "78    7411  5891.546716\n",
      "79    6702  6275.236095\n",
      "80    5013  5070.561180\n",
      "81    5942  4464.149461\n",
      "82    4728  4310.239176\n",
      "83    2440  4255.507975\n",
      "84    5729  4969.223161\n",
      "85    6906  4766.120980\n",
      "86    6209  5414.344864\n",
      "87    1173  2462.891327\n",
      "88    6201  4773.506069\n",
      "89    5477  4530.303587\n",
      "90    4057  5070.561180\n",
      "91    7594  5690.506070\n",
      "92    5588  4814.406543\n",
      "93    1254  2636.781079\n",
      "94    5224  3643.130807\n",
      "95    1558   -40.966142\n",
      "96    3160  5109.539398\n",
      "97    4876  4013.001432\n",
      "\n",
      "[98 rows x 2 columns]\n"
     ]
    }
   ],
   "source": [
    "d1=DataFrame(a, columns=['Actual'])\n",
    "d2=DataFrame(prd_y, columns=['Predicted'])\n",
    "cmp=d1.join(d2)\n",
    "print(cmp)"
   ]
  },
  {
   "cell_type": "markdown",
   "metadata": {},
   "source": [
    "### Step 5"
   ]
  },
  {
   "cell_type": "code",
   "execution_count": 142,
   "metadata": {},
   "outputs": [
    {
     "name": "stdout",
     "output_type": "stream",
     "text": [
      "0.409284953232\n",
      "1186.078914\n"
     ]
    }
   ],
   "source": [
    "#print(getMeanAbsErr(prd_y, y_ts))\n",
    "#print(cmp['Actual'])\n",
    "score=model.score(X_ts, y_ts)\n",
    "print(score)\n",
    "err=getMeanAbsErr(cmp['Actual'], cmp['Predicted'])\n",
    "print(err)\n",
    "conn.close() "
   ]
  }
 ],
 "metadata": {
  "kernelspec": {
   "display_name": "Python 3",
   "language": "python",
   "name": "python3"
  },
  "language_info": {
   "codemirror_mode": {
    "name": "ipython",
    "version": 3
   },
   "file_extension": ".py",
   "mimetype": "text/x-python",
   "name": "python",
   "nbconvert_exporter": "python",
   "pygments_lexer": "ipython3",
   "version": "3.6.1"
  }
 },
 "nbformat": 4,
 "nbformat_minor": 2
}
