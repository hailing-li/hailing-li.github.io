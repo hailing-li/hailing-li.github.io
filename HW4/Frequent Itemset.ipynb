{
 "cells": [
  {
   "cell_type": "markdown",
   "metadata": {},
   "source": [
    "The New York Bike Load dataset contains the bike load information of 4 different bridges, Brooklyn Bridge, Manhattan Bridge, Williamsburg Bridge and Queensboro Bridge with given information on date, day, high temperature, low temperature and precipitation.\n",
    "\n",
    "In my frequent Itemset Analysis, I would like to examine the relationship between temperature, Precipitation and the bike load on Manhattan Bridge.  I would like to know in most cases what causes increment or decrement of bike load on the bridge. When temperature goes up, and the precipitation also goes up, does the bike load goes up or down in most of the cases? What will happen to bike load in most of time when the temperature and the precipitation both go up?\n",
    "\n",
    "To examine these relationship, we need change the data in the way that represent the relationship between 2 days. If the temperature goes up, we write 1. If the temperature goes down, we write -1, if it’s not changing, we write 0. After that we can use PyMing package to determine which combination of -1, 0, 1 occur the most frequently. \n"
   ]
  },
  {
   "cell_type": "markdown",
   "metadata": {},
   "source": [
    "## Step1: Get the data needed from database "
   ]
  },
  {
   "cell_type": "code",
   "execution_count": 7,
   "metadata": {
    "collapsed": true
   },
   "outputs": [],
   "source": [
    "import sqlite3\n",
    "import pandas as pd\n",
    "from pprint import pprint\n",
    "from pandas import DataFrame\n",
    "import pandas as pd\n",
    "from sklearn.linear_model import LinearRegression\n",
    "from sklearn.metrics import mean_squared_error\n",
    "import math\n",
    "import numpy as np\n",
    "conn = sqlite3.connect('bicycle.db')\n",
    "c=conn.cursor()\n",
    "c.execute('SELECT LoTemp, Precip, Manhattan FROM bicycle')\n",
    "data=c.fetchall()"
   ]
  },
  {
   "cell_type": "markdown",
   "metadata": {},
   "source": [
    "## Step2: Transform the Data\n",
    "In this step, I need to create another dataframe, use for loop to fill in the datafram based on the old dataframe. "
   ]
  },
  {
   "cell_type": "code",
   "execution_count": 8,
   "metadata": {
    "collapsed": true
   },
   "outputs": [],
   "source": [
    "Data=DataFrame(data, columns=[ 'LoTemp', 'Precip', 'Manhattan'])\n",
    "n=len(Data)\n",
    "newData = DataFrame( index=range(0,n-1),columns=[ 'LoTemp', 'Precip', 'Manhattan'])\n",
    "\n",
    "Data.loc[1,'LoTemp']\n",
    "newData.loc[1,'LoTemp']=1"
   ]
  },
  {
   "cell_type": "code",
   "execution_count": 9,
   "metadata": {
    "collapsed": true
   },
   "outputs": [],
   "source": [
    "for x in range(0,n-1):\n",
    "    for y in [ 'LoTemp', 'Precip', 'Manhattan']:\n",
    "        if (Data.loc[x,y]<Data.loc[x+1,y]):\n",
    "            newData.loc[x, y]=1\n",
    "        elif (Data.loc[x,y]>Data.loc[x+1,y]):\n",
    "            newData.loc[x, y]=-1 \n",
    "        else:\n",
    "            newData.loc[x, y]=0\n",
    "datalist=newData.values.tolist()"
   ]
  },
  {
   "cell_type": "markdown",
   "metadata": {},
   "source": [
    "## Step3: PyMining \n",
    "In my data, each colum represent different attributes so the sequence of the dataset actually matters. I decided to use teh sequence mining method."
   ]
  },
  {
   "cell_type": "code",
   "execution_count": 19,
   "metadata": {},
   "outputs": [
    {
     "data": {
      "text/plain": [
       "[((-1,), 162),\n",
       " ((-1, -1), 68),\n",
       " ((-1, -1, 1), 22),\n",
       " ((-1, 0), 32),\n",
       " ((-1, 1), 79),\n",
       " ((0,), 100),\n",
       " ((0, -1), 57),\n",
       " ((0, 1), 49),\n",
       " ((1,), 169),\n",
       " ((1, -1), 88),\n",
       " ((1, 0), 51),\n",
       " ((1, 0, -1), 28),\n",
       " ((1, 0, 1), 23),\n",
       " ((1, 1), 70),\n",
       " ((1, 1, -1), 23)]"
      ]
     },
     "execution_count": 19,
     "metadata": {},
     "output_type": "execute_result"
    }
   ],
   "source": [
    "from pymining import seqmining\n",
    "freq_seqs = seqmining.freq_seq_enum(datalist, 20)\n",
    "sorted(freq_seqs)"
   ]
  },
  {
   "cell_type": "code",
   "execution_count": null,
   "metadata": {
    "collapsed": true
   },
   "outputs": [],
   "source": [
    "conn.close() "
   ]
  },
  {
   "cell_type": "markdown",
   "metadata": {},
   "source": [
    "From the sequence frequency result of set of 3 itemset. we see that the most frequently occurred sequence is (1, 0, -1), which have a frequency of 28. That meas when the temperature goes up, and the precipitation doesn't change the bike load goes down. One thing to notice is that it's hard for the temperature growth indicator value to be 0, since little change in temperature will still indicate a increase or decrease in temperature. This is the same for days when we actually have precipitation. So I believe that most of the instances when the precipitation growth indicator value is 0, that means the precipitaion is 0 or this pair of consecutive days. So fact high frequency of (1, 0, -1) means actually means that when the temperature goes up and there's no precipitation, the bike load would most likely to go down. And the second frequently occured sequence is (1, 0, 1), which means that when the temperature increase and there's no precipitation, bike load would most likely to go down. And these two completely different findings only has 5 count different. By looking at the data again, I found that I ignored one important factor, date. The bike count data was collected from April to October. So it make sense that during cold seasone, people prefer to take a bike when it's relatively warmer, and during hot season, people would prefer to take a bike when the weather is relatively cooler. \n",
    "\n",
    "There are other 2 frequent sequence, (-1, -1, 1) is counted 22, and (1, 1, -1) is counted 23. These two tells the same about the relation ship between the precipitation and bike load. Bike load decreases when precipitation goes up, and increases when precipitation goes down. And as we can see from the frequent sequences that we barely see positive precipitation paired with negative temperature in any of the 4 common set-of-3 sequences. That indecates that, in new york, it rains more often during cold seasons. "
   ]
  },
  {
   "cell_type": "code",
   "execution_count": null,
   "metadata": {
    "collapsed": true
   },
   "outputs": [],
   "source": []
  }
 ],
 "metadata": {
  "kernelspec": {
   "display_name": "Python 3",
   "language": "python",
   "name": "python3"
  },
  "language_info": {
   "codemirror_mode": {
    "name": "ipython",
    "version": 3
   },
   "file_extension": ".py",
   "mimetype": "text/x-python",
   "name": "python",
   "nbconvert_exporter": "python",
   "pygments_lexer": "ipython3",
   "version": "3.6.1"
  }
 },
 "nbformat": 4,
 "nbformat_minor": 2
}
